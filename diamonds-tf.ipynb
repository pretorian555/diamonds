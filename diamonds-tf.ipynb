{
 "cells": [
  {
   "cell_type": "markdown",
   "id": "52846002",
   "metadata": {},
   "source": [
    "# Diamond price model development project\n",
    "\n",
    "**Project objectives:**\n",
    "\n",
    "1. develop a model that will predict the price of a diamond based on a set of characteristics\n",
    "2. deploy the trained model with tensorflow serving\n",
    "3. develop a simple web interface using streamlit to make online predictions of a diamond price\n",
    "4. develop pipeline that will automatically train a model and deploy it in production \n",
    "\n",
    "### Intoduction\n",
    "\n",
    "This project uses a dataset of \n",
    "\n",
    "This notebook goes through diamond price prediction model development. The model is developed in tensorflow 2. "
   ]
  },
  {
   "cell_type": "code",
   "execution_count": 25,
   "id": "238e473b",
   "metadata": {},
   "outputs": [
    {
     "name": "stdout",
     "output_type": "stream",
     "text": [
      "2.8.0\n"
     ]
    }
   ],
   "source": [
    "import tensorflow as tf\n",
    "import numpy as np\n",
    "import pandas as pd\n",
    "import os\n",
    "import sys\n",
    "\n",
    "from sklearn.model_selection import train_test_split \n",
    "\n",
    "print(tf.__version__)"
   ]
  },
  {
   "cell_type": "code",
   "execution_count": 26,
   "id": "b4ba2e00",
   "metadata": {},
   "outputs": [
    {
     "name": "stdout",
     "output_type": "stream",
     "text": [
      "2.8.0\n"
     ]
    }
   ],
   "source": [
    "print(tf.keras.__version__)"
   ]
  },
  {
   "cell_type": "code",
   "execution_count": null,
   "id": "1ec43b34",
   "metadata": {},
   "outputs": [],
   "source": [
    "##install any other required libraries \n",
    "##gcsfs - gs for pandas\n",
    "\n",
    "!pip install --user gcsfs"
   ]
  },
  {
   "cell_type": "code",
   "execution_count": 49,
   "id": "ea29d61d",
   "metadata": {},
   "outputs": [],
   "source": [
    "##save some variables\n",
    "\n",
    "PROJECT_ID='diamonds-341821'\n",
    "DATA_BUCKET ='gs://diamonds_data/diamonds.csv'\n",
    "MODEL_STORAGE = os.path.join(\"gs://\", 'stored_model', 'stored_model', '1')"
   ]
  },
  {
   "cell_type": "code",
   "execution_count": 72,
   "id": "3bf9b208",
   "metadata": {},
   "outputs": [
    {
     "name": "stdout",
     "output_type": "stream",
     "text": [
      "gs://saved_model\\saved_model\\v1\n"
     ]
    }
   ],
   "source": [
    "print(MODEL_STORAGE)"
   ]
  },
  {
   "cell_type": "code",
   "execution_count": 29,
   "id": "8f18de19",
   "metadata": {},
   "outputs": [
    {
     "name": "stdout",
     "output_type": "stream",
     "text": [
      "Updated property [core/project].\n"
     ]
    }
   ],
   "source": [
    "!gcloud config set project $PROJECT_ID"
   ]
  },
  {
   "cell_type": "code",
   "execution_count": 37,
   "id": "21d39bad",
   "metadata": {},
   "outputs": [],
   "source": [
    "##authenticate to google cloud\n",
    "## if we run this in AI platform notebooks - already authenticated\n",
    "## if we run this in google colab, we will authenticate through google account\n",
    "## if this notebook runs outside of google environemnt, use service account \n",
    "\n",
    "# If on Google Cloud Notebook, then don't execute this code\n",
    "if not os.path.exists(\"/opt/deeplearning/metadata/env_version\"):\n",
    "    if \"google.colab\" in sys.modules:\n",
    "        from google.colab import auth as google_auth\n",
    "\n",
    "        google_auth.authenticate_user()\n",
    "\n",
    "    # If you are running this notebook locally, replace the string below with the\n",
    "    # path to your service account key and run this cell to authenticate your GCP\n",
    "    # account.\n",
    "    elif not os.getenv(\"IS_TESTING\"):\n",
    "       ##%env GOOGLE_APPLICATION_CREDENTIALS='C:\\\\Users\\Milan Jendrisek\\\\projects\\\\diamonds\\\\key\\\\diamonds-341821-f3138746b45c.json'\n",
    "        os.environ[\"GOOGLE_APPLICATION_CREDENTIALS\"] = 'key\\\\diamonds-341821-f3138746b45c.json'"
   ]
  },
  {
   "cell_type": "code",
   "execution_count": 38,
   "id": "f580ee91",
   "metadata": {},
   "outputs": [],
   "source": [
    "from google.cloud import storage\n",
    "client = storage.Client()"
   ]
  },
  {
   "cell_type": "code",
   "execution_count": 30,
   "id": "e77f1ab4",
   "metadata": {},
   "outputs": [],
   "source": [
    "##load diamond data from GS\n",
    "df = pd.read_csv(DATA_BUCKET)"
   ]
  },
  {
   "cell_type": "code",
   "execution_count": 31,
   "id": "e973432b",
   "metadata": {},
   "outputs": [
    {
     "data": {
      "text/html": [
       "<div>\n",
       "<style scoped>\n",
       "    .dataframe tbody tr th:only-of-type {\n",
       "        vertical-align: middle;\n",
       "    }\n",
       "\n",
       "    .dataframe tbody tr th {\n",
       "        vertical-align: top;\n",
       "    }\n",
       "\n",
       "    .dataframe thead th {\n",
       "        text-align: right;\n",
       "    }\n",
       "</style>\n",
       "<table border=\"1\" class=\"dataframe\">\n",
       "  <thead>\n",
       "    <tr style=\"text-align: right;\">\n",
       "      <th></th>\n",
       "      <th>carat</th>\n",
       "      <th>cut</th>\n",
       "      <th>color</th>\n",
       "      <th>clarity</th>\n",
       "      <th>depth</th>\n",
       "      <th>table</th>\n",
       "      <th>price</th>\n",
       "      <th>x</th>\n",
       "      <th>y</th>\n",
       "      <th>z</th>\n",
       "    </tr>\n",
       "  </thead>\n",
       "  <tbody>\n",
       "    <tr>\n",
       "      <th>0</th>\n",
       "      <td>0.23</td>\n",
       "      <td>Ideal</td>\n",
       "      <td>E</td>\n",
       "      <td>SI2</td>\n",
       "      <td>61.5</td>\n",
       "      <td>55.0</td>\n",
       "      <td>326</td>\n",
       "      <td>3.95</td>\n",
       "      <td>3.98</td>\n",
       "      <td>2.43</td>\n",
       "    </tr>\n",
       "    <tr>\n",
       "      <th>1</th>\n",
       "      <td>0.21</td>\n",
       "      <td>Premium</td>\n",
       "      <td>E</td>\n",
       "      <td>SI1</td>\n",
       "      <td>59.8</td>\n",
       "      <td>61.0</td>\n",
       "      <td>326</td>\n",
       "      <td>3.89</td>\n",
       "      <td>3.84</td>\n",
       "      <td>2.31</td>\n",
       "    </tr>\n",
       "    <tr>\n",
       "      <th>2</th>\n",
       "      <td>0.23</td>\n",
       "      <td>Good</td>\n",
       "      <td>E</td>\n",
       "      <td>VS1</td>\n",
       "      <td>56.9</td>\n",
       "      <td>65.0</td>\n",
       "      <td>327</td>\n",
       "      <td>4.05</td>\n",
       "      <td>4.07</td>\n",
       "      <td>2.31</td>\n",
       "    </tr>\n",
       "    <tr>\n",
       "      <th>3</th>\n",
       "      <td>0.29</td>\n",
       "      <td>Premium</td>\n",
       "      <td>I</td>\n",
       "      <td>VS2</td>\n",
       "      <td>62.4</td>\n",
       "      <td>58.0</td>\n",
       "      <td>334</td>\n",
       "      <td>4.20</td>\n",
       "      <td>4.23</td>\n",
       "      <td>2.63</td>\n",
       "    </tr>\n",
       "    <tr>\n",
       "      <th>4</th>\n",
       "      <td>0.31</td>\n",
       "      <td>Good</td>\n",
       "      <td>J</td>\n",
       "      <td>SI2</td>\n",
       "      <td>63.3</td>\n",
       "      <td>58.0</td>\n",
       "      <td>335</td>\n",
       "      <td>4.34</td>\n",
       "      <td>4.35</td>\n",
       "      <td>2.75</td>\n",
       "    </tr>\n",
       "  </tbody>\n",
       "</table>\n",
       "</div>"
      ],
      "text/plain": [
       "   carat      cut color clarity  depth  table  price     x     y     z\n",
       "0   0.23    Ideal     E     SI2   61.5   55.0    326  3.95  3.98  2.43\n",
       "1   0.21  Premium     E     SI1   59.8   61.0    326  3.89  3.84  2.31\n",
       "2   0.23     Good     E     VS1   56.9   65.0    327  4.05  4.07  2.31\n",
       "3   0.29  Premium     I     VS2   62.4   58.0    334  4.20  4.23  2.63\n",
       "4   0.31     Good     J     SI2   63.3   58.0    335  4.34  4.35  2.75"
      ]
     },
     "execution_count": 31,
     "metadata": {},
     "output_type": "execute_result"
    }
   ],
   "source": [
    "df.head()"
   ]
  },
  {
   "cell_type": "code",
   "execution_count": 49,
   "id": "135185a4",
   "metadata": {},
   "outputs": [
    {
     "data": {
      "text/plain": [
       "carat      0\n",
       "cut        0\n",
       "color      0\n",
       "clarity    0\n",
       "depth      0\n",
       "table      0\n",
       "price      0\n",
       "x          0\n",
       "y          0\n",
       "z          0\n",
       "dtype: int64"
      ]
     },
     "execution_count": 49,
     "metadata": {},
     "output_type": "execute_result"
    }
   ],
   "source": [
    "df.isnull().sum()"
   ]
  },
  {
   "cell_type": "code",
   "execution_count": 32,
   "id": "2c1feb1b",
   "metadata": {},
   "outputs": [
    {
     "data": {
      "text/html": [
       "<div>\n",
       "<style scoped>\n",
       "    .dataframe tbody tr th:only-of-type {\n",
       "        vertical-align: middle;\n",
       "    }\n",
       "\n",
       "    .dataframe tbody tr th {\n",
       "        vertical-align: top;\n",
       "    }\n",
       "\n",
       "    .dataframe thead th {\n",
       "        text-align: right;\n",
       "    }\n",
       "</style>\n",
       "<table border=\"1\" class=\"dataframe\">\n",
       "  <thead>\n",
       "    <tr style=\"text-align: right;\">\n",
       "      <th></th>\n",
       "      <th>carat</th>\n",
       "      <th>depth</th>\n",
       "      <th>table</th>\n",
       "      <th>price</th>\n",
       "      <th>x</th>\n",
       "      <th>y</th>\n",
       "      <th>z</th>\n",
       "    </tr>\n",
       "  </thead>\n",
       "  <tbody>\n",
       "    <tr>\n",
       "      <th>count</th>\n",
       "      <td>53940.000000</td>\n",
       "      <td>53940.000000</td>\n",
       "      <td>53940.000000</td>\n",
       "      <td>53940.000000</td>\n",
       "      <td>53940.000000</td>\n",
       "      <td>53940.000000</td>\n",
       "      <td>53940.000000</td>\n",
       "    </tr>\n",
       "    <tr>\n",
       "      <th>mean</th>\n",
       "      <td>0.797940</td>\n",
       "      <td>61.749405</td>\n",
       "      <td>57.457184</td>\n",
       "      <td>3932.799722</td>\n",
       "      <td>5.731157</td>\n",
       "      <td>5.734526</td>\n",
       "      <td>3.538734</td>\n",
       "    </tr>\n",
       "    <tr>\n",
       "      <th>std</th>\n",
       "      <td>0.474011</td>\n",
       "      <td>1.432621</td>\n",
       "      <td>2.234491</td>\n",
       "      <td>3989.439738</td>\n",
       "      <td>1.121761</td>\n",
       "      <td>1.142135</td>\n",
       "      <td>0.705699</td>\n",
       "    </tr>\n",
       "    <tr>\n",
       "      <th>min</th>\n",
       "      <td>0.200000</td>\n",
       "      <td>43.000000</td>\n",
       "      <td>43.000000</td>\n",
       "      <td>326.000000</td>\n",
       "      <td>0.000000</td>\n",
       "      <td>0.000000</td>\n",
       "      <td>0.000000</td>\n",
       "    </tr>\n",
       "    <tr>\n",
       "      <th>25%</th>\n",
       "      <td>0.400000</td>\n",
       "      <td>61.000000</td>\n",
       "      <td>56.000000</td>\n",
       "      <td>950.000000</td>\n",
       "      <td>4.710000</td>\n",
       "      <td>4.720000</td>\n",
       "      <td>2.910000</td>\n",
       "    </tr>\n",
       "    <tr>\n",
       "      <th>50%</th>\n",
       "      <td>0.700000</td>\n",
       "      <td>61.800000</td>\n",
       "      <td>57.000000</td>\n",
       "      <td>2401.000000</td>\n",
       "      <td>5.700000</td>\n",
       "      <td>5.710000</td>\n",
       "      <td>3.530000</td>\n",
       "    </tr>\n",
       "    <tr>\n",
       "      <th>75%</th>\n",
       "      <td>1.040000</td>\n",
       "      <td>62.500000</td>\n",
       "      <td>59.000000</td>\n",
       "      <td>5324.250000</td>\n",
       "      <td>6.540000</td>\n",
       "      <td>6.540000</td>\n",
       "      <td>4.040000</td>\n",
       "    </tr>\n",
       "    <tr>\n",
       "      <th>max</th>\n",
       "      <td>5.010000</td>\n",
       "      <td>79.000000</td>\n",
       "      <td>95.000000</td>\n",
       "      <td>18823.000000</td>\n",
       "      <td>10.740000</td>\n",
       "      <td>58.900000</td>\n",
       "      <td>31.800000</td>\n",
       "    </tr>\n",
       "  </tbody>\n",
       "</table>\n",
       "</div>"
      ],
      "text/plain": [
       "              carat         depth         table         price             x  \\\n",
       "count  53940.000000  53940.000000  53940.000000  53940.000000  53940.000000   \n",
       "mean       0.797940     61.749405     57.457184   3932.799722      5.731157   \n",
       "std        0.474011      1.432621      2.234491   3989.439738      1.121761   \n",
       "min        0.200000     43.000000     43.000000    326.000000      0.000000   \n",
       "25%        0.400000     61.000000     56.000000    950.000000      4.710000   \n",
       "50%        0.700000     61.800000     57.000000   2401.000000      5.700000   \n",
       "75%        1.040000     62.500000     59.000000   5324.250000      6.540000   \n",
       "max        5.010000     79.000000     95.000000  18823.000000     10.740000   \n",
       "\n",
       "                  y             z  \n",
       "count  53940.000000  53940.000000  \n",
       "mean       5.734526      3.538734  \n",
       "std        1.142135      0.705699  \n",
       "min        0.000000      0.000000  \n",
       "25%        4.720000      2.910000  \n",
       "50%        5.710000      3.530000  \n",
       "75%        6.540000      4.040000  \n",
       "max       58.900000     31.800000  "
      ]
     },
     "execution_count": 32,
     "metadata": {},
     "output_type": "execute_result"
    }
   ],
   "source": [
    "df.describe()"
   ]
  },
  {
   "cell_type": "code",
   "execution_count": 33,
   "id": "79993179",
   "metadata": {},
   "outputs": [
    {
     "data": {
      "text/html": [
       "<div>\n",
       "<style scoped>\n",
       "    .dataframe tbody tr th:only-of-type {\n",
       "        vertical-align: middle;\n",
       "    }\n",
       "\n",
       "    .dataframe tbody tr th {\n",
       "        vertical-align: top;\n",
       "    }\n",
       "\n",
       "    .dataframe thead th {\n",
       "        text-align: right;\n",
       "    }\n",
       "</style>\n",
       "<table border=\"1\" class=\"dataframe\">\n",
       "  <thead>\n",
       "    <tr style=\"text-align: right;\">\n",
       "      <th></th>\n",
       "      <th>carat</th>\n",
       "      <th>cut</th>\n",
       "      <th>color</th>\n",
       "      <th>clarity</th>\n",
       "      <th>depth</th>\n",
       "      <th>table</th>\n",
       "      <th>x</th>\n",
       "      <th>y</th>\n",
       "      <th>z</th>\n",
       "    </tr>\n",
       "  </thead>\n",
       "  <tbody>\n",
       "    <tr>\n",
       "      <th>0</th>\n",
       "      <td>0.23</td>\n",
       "      <td>Ideal</td>\n",
       "      <td>E</td>\n",
       "      <td>SI2</td>\n",
       "      <td>61.5</td>\n",
       "      <td>55.0</td>\n",
       "      <td>3.95</td>\n",
       "      <td>3.98</td>\n",
       "      <td>2.43</td>\n",
       "    </tr>\n",
       "    <tr>\n",
       "      <th>1</th>\n",
       "      <td>0.21</td>\n",
       "      <td>Premium</td>\n",
       "      <td>E</td>\n",
       "      <td>SI1</td>\n",
       "      <td>59.8</td>\n",
       "      <td>61.0</td>\n",
       "      <td>3.89</td>\n",
       "      <td>3.84</td>\n",
       "      <td>2.31</td>\n",
       "    </tr>\n",
       "    <tr>\n",
       "      <th>2</th>\n",
       "      <td>0.23</td>\n",
       "      <td>Good</td>\n",
       "      <td>E</td>\n",
       "      <td>VS1</td>\n",
       "      <td>56.9</td>\n",
       "      <td>65.0</td>\n",
       "      <td>4.05</td>\n",
       "      <td>4.07</td>\n",
       "      <td>2.31</td>\n",
       "    </tr>\n",
       "    <tr>\n",
       "      <th>3</th>\n",
       "      <td>0.29</td>\n",
       "      <td>Premium</td>\n",
       "      <td>I</td>\n",
       "      <td>VS2</td>\n",
       "      <td>62.4</td>\n",
       "      <td>58.0</td>\n",
       "      <td>4.20</td>\n",
       "      <td>4.23</td>\n",
       "      <td>2.63</td>\n",
       "    </tr>\n",
       "    <tr>\n",
       "      <th>4</th>\n",
       "      <td>0.31</td>\n",
       "      <td>Good</td>\n",
       "      <td>J</td>\n",
       "      <td>SI2</td>\n",
       "      <td>63.3</td>\n",
       "      <td>58.0</td>\n",
       "      <td>4.34</td>\n",
       "      <td>4.35</td>\n",
       "      <td>2.75</td>\n",
       "    </tr>\n",
       "  </tbody>\n",
       "</table>\n",
       "</div>"
      ],
      "text/plain": [
       "   carat      cut color clarity  depth  table     x     y     z\n",
       "0   0.23    Ideal     E     SI2   61.5   55.0  3.95  3.98  2.43\n",
       "1   0.21  Premium     E     SI1   59.8   61.0  3.89  3.84  2.31\n",
       "2   0.23     Good     E     VS1   56.9   65.0  4.05  4.07  2.31\n",
       "3   0.29  Premium     I     VS2   62.4   58.0  4.20  4.23  2.63\n",
       "4   0.31     Good     J     SI2   63.3   58.0  4.34  4.35  2.75"
      ]
     },
     "metadata": {},
     "output_type": "display_data"
    },
    {
     "data": {
      "text/plain": [
       "0    326\n",
       "1    326\n",
       "2    327\n",
       "3    334\n",
       "4    335\n",
       "Name: price, dtype: int64"
      ]
     },
     "metadata": {},
     "output_type": "display_data"
    }
   ],
   "source": [
    "##split the dataframe to train and test\n",
    "y = df.pop('price')\n",
    "X = df\n",
    "\n",
    "df_train_X, df_test_X, df_train_y, df_test_y = train_test_split(X,y, test_size=0.20,random_state=42)\n",
    "\n",
    "display(X.head())\n",
    "display(y.head())"
   ]
  },
  {
   "cell_type": "code",
   "execution_count": 34,
   "id": "81d39378",
   "metadata": {},
   "outputs": [
    {
     "name": "stdout",
     "output_type": "stream",
     "text": [
      "<class 'pandas.core.frame.DataFrame'>\n",
      "RangeIndex: 53940 entries, 0 to 53939\n",
      "Data columns (total 9 columns):\n",
      " #   Column   Non-Null Count  Dtype  \n",
      "---  ------   --------------  -----  \n",
      " 0   carat    53940 non-null  float64\n",
      " 1   cut      53940 non-null  object \n",
      " 2   color    53940 non-null  object \n",
      " 3   clarity  53940 non-null  object \n",
      " 4   depth    53940 non-null  float64\n",
      " 5   table    53940 non-null  float64\n",
      " 6   x        53940 non-null  float64\n",
      " 7   y        53940 non-null  float64\n",
      " 8   z        53940 non-null  float64\n",
      "dtypes: float64(6), object(3)\n",
      "memory usage: 3.7+ MB\n"
     ]
    }
   ],
   "source": [
    "X.info()"
   ]
  },
  {
   "cell_type": "code",
   "execution_count": 35,
   "id": "6d12a4b6",
   "metadata": {},
   "outputs": [
    {
     "name": "stdout",
     "output_type": "stream",
     "text": [
      "the size of the training set: x:43152, y:43152\n",
      "the size o the validation set: x:10788, y:10788\n"
     ]
    }
   ],
   "source": [
    "print('the size of the training set: x:{}, y:{}'.format(len(df_train_X), len(df_train_y)))\n",
    "print('the size o the validation set: x:{}, y:{}'.format(len(df_test_X), len(df_test_y)))"
   ]
  },
  {
   "cell_type": "markdown",
   "id": "472e9fc1",
   "metadata": {},
   "source": [
    "Plan of action:\n",
    "\n",
    "    1. convert dataframe to dataset - use dict() to wrap a pandas dataframe with different tpes \n",
    "         \n",
    "    2. remap the dataset to set a label - this has been replaced with 1. splitting data to features and label df, and passing it to from_tensor_slices function\n",
    "    3. data preprocessing\n",
    "        - convert categorical  variables \n",
    "        - normalize numeric features\n",
    "        \n",
    "    4. build a model "
   ]
  },
  {
   "cell_type": "code",
   "execution_count": null,
   "id": "880b682a",
   "metadata": {},
   "outputs": [],
   "source": [
    "##create a dataset from a dataframe  - this is so you can do preprocessing directly in a model\n",
    "\n",
    "##using tf.data.Datasets.from_tensor_slices()\n",
    "\n",
    "train_ds = tf.data.Dataset.from_tensor_slices((dict(df_train_X),df_train_y))\n",
    "test_ds = tf.data.Dataset.from_tensor_slices((dict(df_test_X), df_test_y))\n"
   ]
  },
  {
   "cell_type": "code",
   "execution_count": 37,
   "id": "aebb4baf",
   "metadata": {},
   "outputs": [],
   "source": [
    "##you need to patch the datasest here\n",
    "\n",
    "\n",
    "train_ds = train_ds.batch(32)\n",
    "test_ds = test_ds.batch(32)"
   ]
  },
  {
   "cell_type": "code",
   "execution_count": 38,
   "id": "7fac25de",
   "metadata": {},
   "outputs": [
    {
     "name": "stdout",
     "output_type": "stream",
     "text": [
      "name: carat\n",
      "type:  float64\n",
      "name: cut\n",
      "type:  object\n",
      "name: color\n",
      "type:  object\n",
      "name: clarity\n",
      "type:  object\n",
      "name: depth\n",
      "type:  float64\n",
      "name: table\n",
      "type:  float64\n",
      "name: x\n",
      "type:  float64\n",
      "name: y\n",
      "type:  float64\n",
      "name: z\n",
      "type:  float64\n"
     ]
    }
   ],
   "source": [
    "##code to produce names and types of the columns \n",
    "\n",
    "columns = list(df_train_X.columns)\n",
    "\n",
    "for column in columns:\n",
    "    print('name:', column)\n",
    "    print('type: ',df_train_X[column].dtype)"
   ]
  },
  {
   "cell_type": "code",
   "execution_count": 39,
   "id": "8b1ba831",
   "metadata": {},
   "outputs": [],
   "source": [
    "##create a list of feature names, separate them by type\n",
    "\n",
    "NUMERIC_FEATURES = ['carat','depth','table','x','y','z']\n",
    "CATEGORICAL_FEATURES = ['cut','color','clarity']"
   ]
  },
  {
   "cell_type": "code",
   "execution_count": 40,
   "id": "f1f255c3",
   "metadata": {},
   "outputs": [],
   "source": [
    "##preprocessing functions\n",
    "\n",
    "##for numerical features and categorical features \n",
    "## this function creates preprocessing layers, based on the type of data\n",
    "\n",
    "def get_preprocessing_layer(dataset, feature):\n",
    "    \n",
    "    ##prepare dataset with one feature only\n",
    "    ds_feature = dataset.map(lambda x,y: x[feature])\n",
    "    ##ds_feature = ds_feature.map(lambda x: tf.expand_dims(x,-1))\n",
    "    \n",
    "    #print(\"feature sample for:\", feature)\n",
    "    #print(ds_feature.take(1))\n",
    "    \n",
    "    if feature in NUMERIC_FEATURES:\n",
    "        ##print(\"the feature {} is of type numeric\".format(feature))\n",
    "        normalizer = tf.keras.layers.Normalization(axis=None)\n",
    "        \n",
    "    elif feature in CATEGORICAL_FEATURES: \n",
    "        ##print(\"the feature {} is of type categorical\".format(feature))\n",
    "        normalizer = tf.keras.layers.StringLookup(output_mode='multi_hot')\n",
    "    \n",
    "    ##fit a normalizer to the training set\n",
    "    normalizer.adapt(ds_feature)\n",
    "    \n",
    "    ##print(normalizer)\n",
    "    return normalizer\n",
    "    "
   ]
  },
  {
   "cell_type": "code",
   "execution_count": 41,
   "id": "27d10ab7",
   "metadata": {},
   "outputs": [],
   "source": [
    "##creating inputs for each feature and preprocessing layer\n",
    "\n",
    "##dictionary of model inputs\n",
    "all_inputs = {}\n",
    "##a list of preprocessing layers\n",
    "preprocessed_features = []\n",
    "\n",
    "\n",
    "for feature_name in NUMERIC_FEATURES+CATEGORICAL_FEATURES:\n",
    "        \n",
    "        if feature_name in NUMERIC_FEATURES:\n",
    "            #create input\n",
    "            feature_input = tf.keras.Input(shape=(1,),name=feature_name)\n",
    "            ##print('feature_input: ', feature_input)\n",
    "            \n",
    "        elif feature_name in CATEGORICAL_FEATURES:\n",
    "            feature_input = tf.keras.Input(shape=(1,),name=feature_name,dtype=tf.string)\n",
    "            ##print('feature_input: ', feature_input)\n",
    "        \n",
    "        all_inputs[feature_name] = feature_input\n",
    "        \n",
    "        #create transformed feature\n",
    "        preprocessing_layer = get_preprocessing_layer(train_ds,feature_name)\n",
    "        \n",
    "        ##ataching input to the preprocessing layer \n",
    "        with_input = preprocessing_layer(feature_input)\n",
    "        preprocessed_features.append(with_input)\n",
    "        \n",
    "\n",
    "#see what you created\n",
    "##print(all_inputs)\n",
    "##print(preprocessed_features)\n"
   ]
  },
  {
   "cell_type": "code",
   "execution_count": 42,
   "id": "89e71990",
   "metadata": {},
   "outputs": [],
   "source": [
    "##testing the preprocessing layer only!!\n",
    "\n",
    "##create a model that does preprocessing only!!\n",
    "preprocessing = tf.keras.Model(all_inputs, preprocessed_features)"
   ]
  },
  {
   "cell_type": "code",
   "execution_count": 43,
   "id": "71ea5b5b",
   "metadata": {},
   "outputs": [
    {
     "name": "stdout",
     "output_type": "stream",
     "text": [
      "Model: \"model\"\n",
      "__________________________________________________________________________________________________\n",
      " Layer (type)                   Output Shape         Param #     Connected to                     \n",
      "==================================================================================================\n",
      " carat (InputLayer)             [(None, 1)]          0           []                               \n",
      "                                                                                                  \n",
      " depth (InputLayer)             [(None, 1)]          0           []                               \n",
      "                                                                                                  \n",
      " table (InputLayer)             [(None, 1)]          0           []                               \n",
      "                                                                                                  \n",
      " x (InputLayer)                 [(None, 1)]          0           []                               \n",
      "                                                                                                  \n",
      " y (InputLayer)                 [(None, 1)]          0           []                               \n",
      "                                                                                                  \n",
      " z (InputLayer)                 [(None, 1)]          0           []                               \n",
      "                                                                                                  \n",
      " cut (InputLayer)               [(None, 1)]          0           []                               \n",
      "                                                                                                  \n",
      " color (InputLayer)             [(None, 1)]          0           []                               \n",
      "                                                                                                  \n",
      " clarity (InputLayer)           [(None, 1)]          0           []                               \n",
      "                                                                                                  \n",
      " normalization (Normalization)  (None, 1)            3           ['carat[0][0]']                  \n",
      "                                                                                                  \n",
      " normalization_1 (Normalization  (None, 1)           3           ['depth[0][0]']                  \n",
      " )                                                                                                \n",
      "                                                                                                  \n",
      " normalization_2 (Normalization  (None, 1)           3           ['table[0][0]']                  \n",
      " )                                                                                                \n",
      "                                                                                                  \n",
      " normalization_3 (Normalization  (None, 1)           3           ['x[0][0]']                      \n",
      " )                                                                                                \n",
      "                                                                                                  \n",
      " normalization_4 (Normalization  (None, 1)           3           ['y[0][0]']                      \n",
      " )                                                                                                \n",
      "                                                                                                  \n",
      " normalization_5 (Normalization  (None, 1)           3           ['z[0][0]']                      \n",
      " )                                                                                                \n",
      "                                                                                                  \n",
      " string_lookup (StringLookup)   (None, 6)            0           ['cut[0][0]']                    \n",
      "                                                                                                  \n",
      " string_lookup_1 (StringLookup)  (None, 8)           0           ['color[0][0]']                  \n",
      "                                                                                                  \n",
      " string_lookup_2 (StringLookup)  (None, 9)           0           ['clarity[0][0]']                \n",
      "                                                                                                  \n",
      "==================================================================================================\n",
      "Total params: 18\n",
      "Trainable params: 0\n",
      "Non-trainable params: 18\n",
      "__________________________________________________________________________________________________\n"
     ]
    }
   ],
   "source": [
    "preprocessing.summary()"
   ]
  },
  {
   "cell_type": "code",
   "execution_count": 44,
   "id": "fea2a181",
   "metadata": {},
   "outputs": [],
   "source": [
    "##create a model\n",
    "\n",
    "##concatinate all inputs+preprocessing layers\n",
    "preprocessed_layers = tf.keras.layers.concatenate(preprocessed_features)\n",
    "x = tf.keras.layers.Dense(20, activation='relu')(preprocessed_layers)\n",
    "x = tf.keras.layers.Dense(10, activation='relu')(x)\n",
    "output = tf.keras.layers.Dense(1)(x)\n",
    "\n",
    "model = tf.keras.Model(all_inputs, output)"
   ]
  },
  {
   "cell_type": "code",
   "execution_count": 45,
   "id": "57eea898",
   "metadata": {},
   "outputs": [
    {
     "data": {
      "image/png": "[encoded data removed]",
      "text/plain": [
       "<IPython.core.display.Image object>"
      ]
     },
     "execution_count": 45,
     "metadata": {},
     "output_type": "execute_result"
    }
   ],
   "source": [
    "tf.keras.utils.plot_model(model, show_shapes=True,rankdir=\"LR\")"
   ]
  },
  {
   "cell_type": "code",
   "execution_count": 46,
   "id": "7464938f",
   "metadata": {},
   "outputs": [],
   "source": [
    "##compile the model\n",
    "\n",
    "\n",
    "model.compile(optimizer=tf.optimizers.Adam(learning_rate=0.01),\n",
    "             loss='mean_squared_error',\n",
    "             metrics=[tf.keras.metrics.RootMeanSquaredError()])"
   ]
  },
  {
   "cell_type": "code",
   "execution_count": 47,
   "id": "06a77a9e",
   "metadata": {},
   "outputs": [
    {
     "name": "stdout",
     "output_type": "stream",
     "text": [
      "Epoch 1/10\n",
      "1349/1349 [==============================] - 5s 3ms/step - loss: 3505568.5000 - root_mean_squared_error: 1872.3164 - val_loss: 696017.1875 - val_root_mean_squared_error: 834.2764\n",
      "Epoch 2/10\n",
      "1349/1349 [==============================] - 3s 3ms/step - loss: 799208.2500 - root_mean_squared_error: 893.9845 - val_loss: 549634.7500 - val_root_mean_squared_error: 741.3735\n",
      "Epoch 3/10\n",
      "1349/1349 [==============================] - 3s 3ms/step - loss: 642359.0625 - root_mean_squared_error: 801.4731 - val_loss: 502874.9375 - val_root_mean_squared_error: 709.1368\n",
      "Epoch 4/10\n",
      "1349/1349 [==============================] - 3s 2ms/step - loss: 565507.0000 - root_mean_squared_error: 752.0020 - val_loss: 475849.2812 - val_root_mean_squared_error: 689.8183\n",
      "Epoch 5/10\n",
      "1349/1349 [==============================] - 3s 2ms/step - loss: 518377.0312 - root_mean_squared_error: 719.9841 - val_loss: 452900.0312 - val_root_mean_squared_error: 672.9785\n",
      "Epoch 6/10\n",
      "1349/1349 [==============================] - 3s 3ms/step - loss: 485403.0000 - root_mean_squared_error: 696.7087 - val_loss: 437600.6875 - val_root_mean_squared_error: 661.5139\n",
      "Epoch 7/10\n",
      "1349/1349 [==============================] - 3s 2ms/step - loss: 463916.6562 - root_mean_squared_error: 681.1143 - val_loss: 426804.5312 - val_root_mean_squared_error: 653.3028\n",
      "Epoch 8/10\n",
      "1349/1349 [==============================] - 3s 3ms/step - loss: 449913.1250 - root_mean_squared_error: 670.7556 - val_loss: 419619.4375 - val_root_mean_squared_error: 647.7804\n",
      "Epoch 9/10\n",
      "1349/1349 [==============================] - 3s 2ms/step - loss: 441369.4375 - root_mean_squared_error: 664.3564 - val_loss: 412983.6562 - val_root_mean_squared_error: 642.6381\n",
      "Epoch 10/10\n",
      "1349/1349 [==============================] - 4s 3ms/step - loss: 434664.2812 - root_mean_squared_error: 659.2908 - val_loss: 407562.8750 - val_root_mean_squared_error: 638.4065\n"
     ]
    }
   ],
   "source": [
    "##fit the model\n",
    "\n",
    "tensorboard_callback = tf.keras.callbacks.TensorBoard() ##this will create a default log directory for logs \n",
    "\n",
    "history = model.fit(train_ds, epochs=10, validation_data=test_ds,\n",
    "         callbacks=[tensorboard_callback])"
   ]
  },
  {
   "cell_type": "code",
   "execution_count": 48,
   "id": "13258dc8",
   "metadata": {},
   "outputs": [
    {
     "data": {
      "text/html": [
       "\n",
       "      <iframe id=\"tensorboard-frame-af6e19f4d012373e\" width=\"100%\" height=\"800\" frameborder=\"0\">\n",
       "      </iframe>\n",
       "      <script>\n",
       "        (function() {\n",
       "          const frame = document.getElementById(\"tensorboard-frame-af6e19f4d012373e\");\n",
       "          const url = new URL(\"/proxy/6006/\", window.location);\n",
       "          const port = 0;\n",
       "          if (port) {\n",
       "            url.port = port;\n",
       "          }\n",
       "          frame.src = url;\n",
       "        })();\n",
       "      </script>\n",
       "    "
      ],
      "text/plain": [
       "<IPython.core.display.HTML object>"
      ]
     },
     "metadata": {},
     "output_type": "display_data"
    }
   ],
   "source": [
    "%reload_ext tensorboard\n",
    "%tensorboard --logdir logs"
   ]
  },
  {
   "cell_type": "code",
   "execution_count": 50,
   "id": "5bda87fc",
   "metadata": {},
   "outputs": [
    {
     "name": "stderr",
     "output_type": "stream",
     "text": [
      "2022-03-03 23:01:46.473940: W tensorflow/python/util/util.cc:368] Sets are not currently considered sequences, but this may change in the future, so consider avoiding using them.\n"
     ]
    },
    {
     "name": "stdout",
     "output_type": "stream",
     "text": [
      "INFO:tensorflow:Assets written to: gs://stored_model/stored_model/1/assets\n"
     ]
    }
   ],
   "source": [
    "##storing a model on GS seems to only work from non windows machines\n",
    "##worked correctly from google colab \n",
    "## need to implement a check if we are on a windows machine jupyter notebook\n",
    "\n",
    "tf.saved_model.save(model,MODEL_STORAGE)"
   ]
  },
  {
   "cell_type": "markdown",
   "id": "b02a837e-2e88-4109-831a-120f05510202",
   "metadata": {},
   "source": [
    "## Creating a tensorflow serving docker image with trained model \n",
    "\n",
    "This image will be deployed on google cloud run as a REST endpoint microservice. "
   ]
  },
  {
   "cell_type": "code",
   "execution_count": 55,
   "id": "eb07f09f-7aed-401c-a10f-ccef0b25637a",
   "metadata": {},
   "outputs": [
    {
     "name": "stdout",
     "output_type": "stream",
     "text": [
      "Overwriting serving/Dockerfile\n"
     ]
    }
   ],
   "source": [
    "%%writefile serving/Dockerfile\n",
    "\n",
    "FROM tensorflow/serving\n",
    "\n",
    "ENV MODEL_NAME=diamonds\n",
    "ENV MODEL_FOLDER=/model/stored_model/\n",
    "ENV MODEL_STORAGE='gs://stored_model/stored_model/1'\n",
    "\n",
    "\n",
    "\n",
    "RUN apt-get update && apt-get install -y curl gnupg\n",
    "\n",
    "RUN echo \"deb [signed-by=/usr/share/keyrings/cloud.google.gpg] http://packages.cloud.google.com/apt cloud-sdk main\" | tee -a /etc/apt/sources.list.d/google-cloud-sdk.list && curl https://packages.cloud.google.com/apt/doc/apt-key.gpg | apt-key --keyring /usr/share/keyrings/cloud.google.gpg  add - && apt-get update -y && apt-get install google-cloud-sdk -y\n",
    "\n",
    "RUN mkdir /models/diamonds\n",
    "\n",
    "RUN gsutil cp -r $MODEL_STORAGE /models/diamonds\n",
    "\n",
    "CMD tensorflow_model_server --port=8050 --rest_api_port=8501 --model_base_path=/models/diamonds/model --model_name='DIAMONDS'"
   ]
  },
  {
   "cell_type": "code",
   "execution_count": 52,
   "id": "64133a1f-a51c-4dd6-9355-0199a882ba01",
   "metadata": {},
   "outputs": [],
   "source": [
    "IMAGE_NAME='diamonds_image'\n",
    "IMAGE_TAG='latest'\n",
    "IMAGE_URI='gcr.io/{}/{}:{}'.format(PROJECT_ID, IMAGE_NAME, IMAGE_TAG)"
   ]
  },
  {
   "cell_type": "code",
   "execution_count": null,
   "id": "8b38541d-8f57-4ad6-af82-ea7c7ae2d259",
   "metadata": {},
   "outputs": [],
   "source": [
    "##building a docker image for tensorflow serving REST endpoint microservice that will be deployed on google cloud run\n",
    "\n",
    "!gcloud builds submit serving --tag $IMAGE_URI"
   ]
  },
  {
   "cell_type": "markdown",
   "id": "4c758ef6-c710-4355-9710-c17c04aa347a",
   "metadata": {},
   "source": [
    "## Performing a test \n",
    "\n",
    "This test is done after the trained model was deployed on tensorflow serving on cloud run"
   ]
  },
  {
   "cell_type": "code",
   "execution_count": 176,
   "id": "e058571e",
   "metadata": {},
   "outputs": [
    {
     "data": {
      "text/plain": [
       "{'carat': 0.23,\n",
       " 'cut': 'Very Good',\n",
       " 'color': 'H',\n",
       " 'clarity': 'VS1',\n",
       " 'depth': 59.4,\n",
       " 'table': 61.0,\n",
       " 'price': 338,\n",
       " 'x': 4.0,\n",
       " 'y': 4.05,\n",
       " 'z': 2.39}"
      ]
     },
     "execution_count": 176,
     "metadata": {},
     "output_type": "execute_result"
    }
   ],
   "source": [
    "dict(df.loc[9])"
   ]
  },
  {
   "cell_type": "code",
   "execution_count": 186,
   "id": "904b2bcb",
   "metadata": {},
   "outputs": [
    {
     "data": {
      "text/plain": [
       "array(['Ideal', 'Premium', 'Good', 'Very Good', 'Fair'], dtype=object)"
      ]
     },
     "execution_count": 186,
     "metadata": {},
     "output_type": "execute_result"
    }
   ],
   "source": [
    "df['cut'].unique()"
   ]
  },
  {
   "cell_type": "code",
   "execution_count": 332,
   "id": "4d81f16e",
   "metadata": {},
   "outputs": [
    {
     "name": "stdout",
     "output_type": "stream",
     "text": [
      "x\n",
      "y\n"
     ]
    }
   ],
   "source": [
    "##RANDOM TESTING\n",
    "##unpacking a list\n",
    "\n",
    "x,y = ['x','y']\n",
    "\n",
    "print(x)\n",
    "print(y)"
   ]
  },
  {
   "cell_type": "code",
   "execution_count": 57,
   "id": "ce1a27bc",
   "metadata": {},
   "outputs": [
    {
     "name": "stdout",
     "output_type": "stream",
     "text": [
      "[['0.6']\n",
      " ['Ideal']\n",
      " ['H']\n",
      " ['VS1']\n",
      " ['59.4']\n",
      " ['61.0']\n",
      " ['4.0']\n",
      " ['4.05']\n",
      " ['2.39']]\n",
      "[{'carat': <tf.Tensor: shape=(1, 1), dtype=float32, numpy=array([[0.6]], dtype=float32)>, 'cut': <tf.Tensor: shape=(1, 1), dtype=string, numpy=array([[b'Ideal']], dtype=object)>, 'color': <tf.Tensor: shape=(1, 1), dtype=string, numpy=array([[b'H']], dtype=object)>, 'clarity': <tf.Tensor: shape=(1, 1), dtype=string, numpy=array([[b'VS1']], dtype=object)>, 'depth': <tf.Tensor: shape=(1, 1), dtype=float32, numpy=array([[59.4]], dtype=float32)>, 'table': <tf.Tensor: shape=(1, 1), dtype=float32, numpy=array([[61.]], dtype=float32)>, 'x': <tf.Tensor: shape=(1, 1), dtype=float32, numpy=array([[4.]], dtype=float32)>, 'y': <tf.Tensor: shape=(1, 1), dtype=float32, numpy=array([[4.05]], dtype=float32)>, 'z': <tf.Tensor: shape=(1, 1), dtype=float32, numpy=array([[2.39]], dtype=float32)>}]\n"
     ]
    },
    {
     "data": {
      "text/plain": [
       "<tf.Tensor: shape=(1, 1), dtype=float32, numpy=array([[965.2047]], dtype=float32)>"
      ]
     },
     "execution_count": 57,
     "metadata": {},
     "output_type": "execute_result"
    }
   ],
   "source": [
    "\n",
    "##create a sample\n",
    "sample = [{'carat': [0.6],\n",
    " 'cut': ['Ideal'],\n",
    " 'color': ['H'],\n",
    " 'clarity': ['VS1'],\n",
    " 'depth': [59.4],\n",
    " 'table': [61.0],\n",
    " 'x': [4.0],\n",
    " 'y': [4.05],\n",
    " 'z': [2.39]}]\n",
    "\n",
    "samples = [{'carat': [0.6],\n",
    " 'cut': ['Ideal'],\n",
    " 'color': ['H'],\n",
    " 'clarity': ['VS1'],\n",
    " 'depth': [59.4],\n",
    " 'table': [61.0],\n",
    " 'x': [4.0],\n",
    " 'y': [4.05],\n",
    " 'z': [2.39]},\n",
    " {'carat': [0.6],\n",
    " 'cut': ['Ideal'],\n",
    " 'color': ['H'],\n",
    " 'clarity': ['VS1'],\n",
    " 'depth': [59.4],\n",
    " 'table': [61.0],\n",
    " 'x': [4.0],\n",
    " 'y': [4.05],\n",
    " 'z': [2.39]} ]\n",
    "\n",
    "sample_list = [[0.6],\n",
    " ['Ideal'],\n",
    " ['H'],\n",
    " ['VS1'],\n",
    " [59.4],\n",
    " [61.0],\n",
    " [4.0],\n",
    " [4.05],\n",
    " [2.39]]\n",
    "\n",
    "##pass it to a model\n",
    "\n",
    "print(np.array(sample_list))\n",
    "\n",
    "##dictionary\n",
    "\n",
    "##list of dictionaries\n",
    "\n",
    "##input_dict = {name: tf.convert_to_tensor([value]) for name, value in sample.items()}\n",
    "\n",
    "#1. unpack the list\n",
    "#2. unpack the dictionary\n",
    "\n",
    "model_test = [{name: tf.convert_to_tensor([value]) for name, value in example.items()} for example in sample]\n",
    "\n",
    "print(model_test)\n",
    "\n",
    "##input_dict = {name: tf.convert_to_tensor([item.value])for item.items() in items for items in sample}\n",
    "\n",
    "##model.predict_on_batch(model_test)\n",
    "\n",
    "model(model_test)\n"
   ]
  },
  {
   "cell_type": "code",
   "execution_count": 58,
   "id": "d2fde321",
   "metadata": {},
   "outputs": [],
   "source": [
    "##testing of the model from tensorflow/serving on gcp \n",
    "import json\n",
    "import http\n",
    "\n",
    "import requests \n",
    "\n",
    "#from requests import Session\n",
    "\n",
    "\n",
    "def rest_request(text, url=None):\n",
    "    \n",
    "    if url is None:\n",
    "        url='https://diamonds-image-bfpumxj2xa-uc.a.run.app/v1/models/diamonds:predict'\n",
    "        payload = json.dumps({\"instances\":text})\n",
    "        print(payload)\n",
    "        response = requests.post(url,data=payload)\n",
    "        \n",
    "        return response"
   ]
  },
  {
   "cell_type": "code",
   "execution_count": 61,
   "id": "5537bfea",
   "metadata": {},
   "outputs": [
    {
     "name": "stdout",
     "output_type": "stream",
     "text": [
      "{\"instances\": [{\"carat\": [0.6], \"cut\": [\"Ideal\"], \"color\": [\"H\"], \"clarity\": [\"VS1\"], \"depth\": [59.4], \"table\": [61.0], \"x\": [4.0], \"y\": [4.05], \"z\": [2.39]}, {\"carat\": [0.6], \"cut\": [\"Ideal\"], \"color\": [\"H\"], \"clarity\": [\"VS1\"], \"depth\": [59.4], \"table\": [61.0], \"x\": [4.0], \"y\": [4.05], \"z\": [2.39]}]}\n",
      "{'predictions': [[965.204773], [965.204773]]}\n"
     ]
    }
   ],
   "source": [
    "rs = rest_request(samples)\n",
    "print(rs.json())"
   ]
  },
  {
   "cell_type": "code",
   "execution_count": 60,
   "id": "82dc8961",
   "metadata": {},
   "outputs": [
    {
     "name": "stdout",
     "output_type": "stream",
     "text": [
      "{\"instances\": [{\"carat\": [0.6], \"cut\": [\"Ideal\"], \"color\": [\"H\"], \"clarity\": [\"VS1\"], \"depth\": [59.4], \"table\": [61.0], \"x\": [4.0], \"y\": [4.05], \"z\": [2.39]}]}\n",
      "<class 'float'>\n"
     ]
    }
   ],
   "source": [
    "rs = rest_request(sample)\n",
    "print(type(rs.json()['predictions'][0][0]))"
   ]
  },
  {
   "cell_type": "code",
   "execution_count": 234,
   "id": "a5bb2501",
   "metadata": {},
   "outputs": [
    {
     "data": {
      "text/plain": [
       "'{\"instances\": {\"carat\": 0.6, \"cut\": \"Ideal\", \"color\": \"H\", \"clarity\": \"VS1\", \"depth\": 59.4, \"table\": 61.0, \"x\": 4.0, \"y\": 4.05, \"z\": 2.39}}'"
      ]
     },
     "execution_count": 234,
     "metadata": {},
     "output_type": "execute_result"
    }
   ],
   "source": [
    "json.dumps({'instances':{'carat': 0.6,\n",
    " 'cut': 'Ideal',\n",
    " 'color': 'H',\n",
    " 'clarity': 'VS1',\n",
    " 'depth': 59.4,\n",
    " 'table': 61.0,\n",
    " 'x': 4.0,\n",
    " 'y': 4.05,\n",
    " 'z': 2.39}})"
   ]
  },
  {
   "cell_type": "code",
   "execution_count": null,
   "id": "ba587a33",
   "metadata": {},
   "outputs": [],
   "source": [
    "r = requests.post(url=\"http://localhost:9000/v1/models/multisensory:predict\", data=json.dumps(data))"
   ]
  },
  {
   "cell_type": "code",
   "execution_count": 240,
   "id": "b4f2be3f",
   "metadata": {},
   "outputs": [
    {
     "name": "stdout",
     "output_type": "stream",
     "text": [
      "{"
     ]
    },
    {
     "name": "stderr",
     "output_type": "stream",
     "text": [
      "  % Total    % Received % Xferd  Average Speed   Time    Time     Time  Current\n",
      "                                 Dload  Upload   Total   Spent    Left  Speed\n",
      "\n",
      "  0     0    0     0    0     0      0      0 --:--:-- --:--:-- --:--:--     0\n",
      "100   106  100    64  100    42    267    175 --:--:-- --:--:-- --:--:--   445\n",
      "curl: (3) bad range specification in URL position 2:\n",
      "[{carat:\n",
      " ^\n"
     ]
    },
    {
     "name": "stdout",
     "output_type": "stream",
     "text": [
      "\n",
      "    \"error\": \"JSON Parse error: Invalid value. at offset: 0\"\n",
      "}\n"
     ]
    }
   ],
   "source": [
    "!curl -X POST https://diamonds-image-bfpumxj2xa-uc.a.run.app/v1/models/diamonds:predict -d '{\"signature_name\":\"serving_default\",\"examples\": [{\"carat\": 0.6, \"cut\": \"Ideal\", \"color\": \"H\", \"clarity\": \"VS1\", \"depth\": 59.4, \"table\": 61.0, \"x\": 4.0, \"y\": 4.05, \"z\": 2.39}]}'"
   ]
  }
 ],
 "metadata": {
  "environment": {
   "kernel": "python3",
   "name": "tf2-gpu.2-7.m87",
   "type": "gcloud",
   "uri": "gcr.io/deeplearning-platform-release/tf2-gpu.2-7:m87"
  },
  "kernelspec": {
   "display_name": "Python 3",
   "language": "python",
   "name": "python3"
  },
  "language_info": {
   "codemirror_mode": {
    "name": "ipython",
    "version": 3
   },
   "file_extension": ".py",
   "mimetype": "text/x-python",
   "name": "python",
   "nbconvert_exporter": "python",
   "pygments_lexer": "ipython3",
   "version": "3.7.12"
  }
 },
 "nbformat": 4,
 "nbformat_minor": 5
}
